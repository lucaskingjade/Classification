{
 "cells": [
  {
   "cell_type": "markdown",
   "metadata": {
    "deletable": true,
    "editable": true
   },
   "source": [
    "# This is the project notebook for recording the \"Classification\" Project"
   ]
  },
  {
   "cell_type": "markdown",
   "metadata": {
    "deletable": true,
    "editable": true
   },
   "source": [
    "## 1. Experiments:\n",
    "### 01/05/2017: Two Grid_Search Experiments are running:\n",
    "#### 1. training/Emilya_Dataset/expr0105/gridsearch001\n",
    "    all pairs are used\n",
    "#### 2. training/Emilya_Dataset/expr0105/gridsearch002:\n",
    "    all pairs are used\n",
    "#### 3. training/Emilya_Dataset/expr0105/gridsearch003:\n",
    "    missing pair = {\"Simple Walk\",\"Panic Fear\"} pair, grid search,\n",
    "    trianing set: 60% data and remove the sequences of the missing pair.\n",
    "    validation set: 20% data including all poss\n",
    "#### 3. training/Emilya_Dataset/expr0105/gridsearch004:\n",
    "missing pair = {\"Simple Walk\",\"Panic Fear\"} pair, grid search,<br>\n",
    "trianing set: 60% data and remove the sequences of the missing pair.<br>\n",
    "validation set: 20% data including all poss"
   ]
  },
  {
   "cell_type": "code",
   "execution_count": null,
   "metadata": {
    "collapsed": true
   },
   "outputs": [],
   "source": []
  }
 ],
 "metadata": {
  "kernelspec": {
   "display_name": "Python 2",
   "language": "python",
   "name": "python2"
  },
  "language_info": {
   "codemirror_mode": {
    "name": "ipython",
    "version": 2
   },
   "file_extension": ".py",
   "mimetype": "text/x-python",
   "name": "python",
   "nbconvert_exporter": "python",
   "pygments_lexer": "ipython2",
   "version": "2.7.13"
  }
 },
 "nbformat": 4,
 "nbformat_minor": 2
}
