{
 "cells": [
  {
   "cell_type": "markdown",
   "metadata": {
    "deletable": true,
    "editable": true
   },
   "source": [
    "# This is the project notebook for recording the \"Classification\" Project"
   ]
  },
  {
   "cell_type": "markdown",
   "metadata": {
    "deletable": true,
    "editable": true
   },
   "source": [
    "## 1. Experiments:\n",
    "### 01/05/2017: Two Grid_Search Experiments are running:\n",
    "#### 1. training/Emilya_Dataset/expr0105/gridsearch001\n",
    "    all pairs are used\n"
   ]
  },
  {
   "cell_type": "markdown",
   "metadata": {
    "deletable": true,
    "editable": true
   },
   "source": [
    "#### 2. training/Emilya_Dataset/expr0105/gridsearch002:\n",
    "    all pairs are used"
   ]
  },
  {
   "cell_type": "code",
   "execution_count": 5,
   "metadata": {
    "collapsed": false
   },
   "outputs": [
    {
     "data": {
      "text/html": [
       "<table>\n",
       "<tbody>\n",
       "<tr><td>         </td><td>[100,20,20],dim_embd=2</td><td>[100,50,50],dim_embd=2</td><td>[100,20,20],dim_embd=3</td><td>[100,50,50],dim_embd=3</td></tr>\n",
       "<tr><td>lr=0.01  </td><td>85.084%               </td><td>75.747%               </td><td>79.55%                </td><td>76.835%               </td></tr>\n",
       "<tr><td>lr=0.005 </td><td>88.114%               </td><td>77.811%               </td><td>86.976%               </td><td>76.839%               </td></tr>\n",
       "<tr><td>lr=0.001 </td><td>87.096%               </td><td>83.409%               </td><td>88.85%                </td><td>88.484%               </td></tr>\n",
       "<tr><td>lr=0.0005</td><td>87.531%               </td><td>87.827%               </td><td>87.383%               </td><td>87.568%               </td></tr>\n",
       "</tbody>\n",
       "</table>"
      ],
      "text/plain": [
       "<IPython.core.display.HTML object>"
      ]
     },
     "metadata": {},
     "output_type": "display_data"
    }
   ],
   "source": [
    "from IPython.display import HTML,display\n",
    "import tabulate\n",
    "table = [['','[100,20,20],dim_embd=2','[100,50,50],dim_embd=2','[100,20,20],dim_embd=3','[100,50,50],dim_embd=3'],\n",
    "         ['lr=0.01','85.084%','75.747%','79.55%','76.835%'],\n",
    "         ['lr=0.005','88.114%','77.811%','86.976%','76.839%'],\n",
    "         ['lr=0.001','87.096%','83.409%','88.85%','88.484%'],\n",
    "         ['lr=0.0005','87.531%','87.827%','87.383%','87.568%']]\n",
    "display(HTML(tabulate.tabulate(table,tablefmt='html')))"
   ]
  },
  {
   "cell_type": "markdown",
   "metadata": {
    "deletable": true,
    "editable": true
   },
   "source": [
    "#### 3. training/Emilya_Dataset/expr0105/gridsearch003:\n",
    "    missing pair = {\"Simple Walk\",\"Panic Fear\"} pair, grid search,\n",
    "    trianing set: 60% data and remove the sequences of the missing pair.\n",
    "    validation set: 20% data including all avaiable activity-emotion pairs\n",
    "    Max_Epoch = 50\n",
    "    Structure of LSTM:hidden layers :[100,20,20] ,['tanh','tanh','tanh'],output layer: dim:8,softmax"
   ]
  },
  {
   "cell_type": "code",
   "execution_count": 6,
   "metadata": {
    "collapsed": false,
    "deletable": true,
    "editable": true
   },
   "outputs": [
    {
     "data": {
      "text/html": [
       "<table>\n",
       "<tbody>\n",
       "<tr><td>        </td><td>dim_embedding=2</td><td>dim_embedding=3</td><td>dim_embedding=4</td><td>dim_embedding=6</td><td>dim_embedding=8</td></tr>\n",
       "<tr><td>lr=0.01 </td><td>62.751%        </td><td>80.795%        </td><td>77.228%        </td><td>61.844%        </td><td>51.601%        </td></tr>\n",
       "<tr><td>lr=0.005</td><td>84.857%        </td><td>86.129%        </td><td>85.260%        </td><td>86.037%        </td><td>72.814%        </td></tr>\n",
       "</tbody>\n",
       "</table>"
      ],
      "text/plain": [
       "<IPython.core.display.HTML object>"
      ]
     },
     "metadata": {},
     "output_type": "display_data"
    }
   ],
   "source": [
    "from IPython.display import HTML, display\n",
    "import tabulate\n",
    "table = [['','dim_embedding=2','dim_embedding=3','dim_embedding=4','dim_embedding=6','dim_embedding=8'],\n",
    "        ['lr=0.01','62.751%','80.795%','77.228%','61.844%','51.601%'],\n",
    "        ['lr=0.005','84.857%','86.129%','85.260%','86.037%','72.814%'],\n",
    "        ]\n",
    "\n",
    "display(HTML(tabulate.tabulate(table, tablefmt='html')))"
   ]
  },
  {
   "cell_type": "markdown",
   "metadata": {
    "deletable": true,
    "editable": true
   },
   "source": [
    "#### 4. training/Emilya_Dataset/expr0105/gridsearch004:\n",
    "missing pair = {\"Simple Walk\",\"Panic Fear\"} pair, grid search,<br>\n",
    "trianing set: 60% data and remove the sequences of the missing pair.<br>\n",
    "validation set: 20% data including all poss<br>\n",
    "Structure: hidden:[100,20,20],['tanh','tanh','tanh'],\n",
    "Max_Epoch =50,embedding dim=2\n",
    "Results: lr= 0.005 better than lr=0.01"
   ]
  },
  {
   "cell_type": "code",
   "execution_count": 7,
   "metadata": {
    "collapsed": false,
    "deletable": true,
    "editable": true
   },
   "outputs": [
    {
     "data": {
      "text/html": [
       "<table>\n",
       "<tbody>\n",
       "<tr><td>               </td><td>lr=0.01</td><td>lr=0.005</td></tr>\n",
       "<tr><td>score(accuracy)</td><td>51.744%</td><td>85.557% </td></tr>\n",
       "</tbody>\n",
       "</table>"
      ],
      "text/plain": [
       "<IPython.core.display.HTML object>"
      ]
     },
     "metadata": {},
     "output_type": "display_data"
    }
   ],
   "source": [
    "from IPython.display import HTML, display\n",
    "import tabulate\n",
    "table = [['','lr=0.01','lr=0.005'],\n",
    "        ['score(accuracy)','51.744%','85.557%'],\n",
    "        ]\n",
    "\n",
    "display(HTML(tabulate.tabulate(table, tablefmt='html')))"
   ]
  },
  {
   "cell_type": "markdown",
   "metadata": {},
   "source": [
    "#### 5. training/Emilya_Dataset/expr0105/gridsearch005:\n",
    "missing pair = {\"Simple Walk\",\"Panic Fear\"} pair, grid search,<br>\n",
    "trianing set: 60% data and remove the sequences of the missing pair.<br>\n",
    "validation set: 20% data including all poss<br>\n",
    "Structure: hidden:[100,20],['tanh','tanh'],\n",
    "Max_Epoch =50,embedding dim=3\n",
    "search: lr=[0.05,0.01,0.005,0.001], hidden_dim = [[100,20],[100,60]]"
   ]
  },
  {
   "cell_type": "markdown",
   "metadata": {},
   "source": [
    "#### 6. training/Emilya_Dataset/expr0105/gridsearch006:\n",
    "missing pair = {\"Simple Walk\",\"Panic Fear\"} pair, grid search,<br>\n",
    "trianing set: 60% data and remove the sequences of the missing pair.<br>\n",
    "validation set: 20% data including all poss<br>\n",
    "Structure: hidden:[100,20],['tanh','tanh'],\n",
    "Max_Epoch =50,embedding dim=3\n",
    "search:lr=[0.01,0.005],hidden_dim_list =[100,20],[100,80],[200,100],[150,50]"
   ]
  },
  {
   "cell_type": "markdown",
   "metadata": {},
   "source": [
    "#### 7. training/Emilya_Dataset/expr0105/gridsearch007:\n",
    "missing pairs:{\"Simple Walk\",\"Panic Fear\"},{\"Sitting Down\",\"Sadness\"},{\"Move Books\",\"Joy\"}<br>\n",
    "grid search:embd_dim=[3,4,5],hidden_dim_list=[[100,20],[100,80]],lr=[0.01,0.005]"
   ]
  },
  {
   "cell_type": "markdown",
   "metadata": {},
   "source": [
    "### Contrast experiments: Activity Classification without emotion input.\n",
    "#### 1.training/Emilya_Dataset/expr0305/gridsearch001:\n",
    "Missing Pair: {\"Simple Walk\",\"Panic Fear\"}\n",
    "hidden_dim_list=[[100,20,20]],activation_list=[['tanh','tanh','tanh']]<br>\n",
    "grid search: lr = [0.01,0.005]"
   ]
  },
  {
   "cell_type": "code",
   "execution_count": 9,
   "metadata": {
    "collapsed": false
   },
   "outputs": [
    {
     "data": {
      "text/html": [
       "<table>\n",
       "<tbody>\n",
       "<tr><td>               </td><td>lr = 0.01</td><td>lr=0.005</td></tr>\n",
       "<tr><td>score(accuracy)</td><td>73.374%  </td><td>86.902% </td></tr>\n",
       "</tbody>\n",
       "</table>"
      ],
      "text/plain": [
       "<IPython.core.display.HTML object>"
      ]
     },
     "metadata": {},
     "output_type": "display_data"
    }
   ],
   "source": [
    "from IPython.display import HTML,display\n",
    "import tabulate\n",
    "table = [['','lr = 0.01','lr=0.005'],\n",
    "        ['score(accuracy)','73.374%','86.902%']]\n",
    "display(HTML(tabulate.tabulate(table,tablefmt='html')))"
   ]
  },
  {
   "cell_type": "markdown",
   "metadata": {},
   "source": [
    "#### 2.training/Emilya_Dataset/expr0305/gridsearch002:\n",
    "missing pairs:{\"Simple Walk\",\"Panic Fear\"},{\"Sitting Down\",\"Sadness\"},{\"Move Books\",\"Joy\"}\n",
    "grid search:embd_dim=[3,4,5],hidden_dim_list=[[100,20],[100,80]],lr=[0.01,0.005]"
   ]
  },
  {
   "cell_type": "markdown",
   "metadata": {
    "collapsed": true,
    "deletable": true,
    "editable": true
   },
   "source": [
    "# Next Task:\n",
    "1.Processing HDM05: <br>\n",
    "    a. test if it's possible to decrease the value of euler angles into the range (0,360) <br>\n",
    "    b. If 1 is yes, change; if 1 not,then convert euler angles into exponential mapping using matlab tools<br>\n",
    "    c. use HDM05 for frame forecasting \n",
    "2.Activity classification, choose a good setting of hyperparameters\n",
    "\n",
    "# Experiments to launch:\n",
    "1. activity classification without Emotion information, with some missing pairs.\n",
    "2. launch experiments with dim_embedding = 3 and search optimal learning rate and structure of network\n",
    "3. After grid_search in 2, use cross validation compute the score of motion recognition.(get a more reliable result)\n",
    "4. recompute the forecasting error of SAAE: search the frame closest to the first frame of suffix. Probably this will decrease the mse error.\n",
    "\n",
    "# Something need to consider:\n",
    "Use two discriminators. One is for distinguishing the latent codes and the other one is for frame(or multiple successive frames) classification."
   ]
  },
  {
   "cell_type": "markdown",
   "metadata": {
    "collapsed": true,
    "deletable": true,
    "editable": true
   },
   "source": [
    "# HDM05 : format:\n",
    "each frames: first 3 dims: global position<br>\n",
    "4-6 dims: root orientation angles<br>\n",
    "the remaining: euler angles of other joints.<br>\n",
    "## Processing HDM05:\n"
   ]
  },
  {
   "cell_type": "markdown",
   "metadata": {
    "deletable": true,
    "editable": true
   },
   "source": [
    "# Some Ideas for ICMI paper:\n",
    "## 1. focus on emotion conditional models:\n",
    "### a. learn emotional embedding through the task of activity classification(all available emotion activity pairs to train the embedding),visualise the learned emotion embedding.\n",
    "### b. compare the classification performance of models with different embedding settings(2 dimensional,3-dim...and one-hot code)\n",
    "### c. take the learned embedding layer  and add it as contextual input into the SAAE, refine the embedding while training SAAE. \n",
    "### d compare the loss value of SAAEs with different contextual input. and Also compare the generated motions. \n",
    "\n",
    "## 2. Fully-connected SAAE better than one-connected SAAE.\n",
    "\n",
    "## Experiments to do:\n",
    "### 1. Activity classification experiments\n",
    "### 2. emotion-conditional SAAE, \n",
    "### 3. fully-connected SAAE and one-connected SAAE\n",
    "\n",
    "## 3. Generate motions whose emotion and activity pair doesn't exist in dataset.\n",
    "### Explore to generate motions of missing pair by using continous and lower dimensional embedding of emotions\n",
    "\n",
    "## 4. Emotion transfering:\n",
    "### Since emotion is continuous and lower dimensional, we can transfer motion from one emotion to another emotion.\n"
   ]
  },
  {
   "cell_type": "code",
   "execution_count": null,
   "metadata": {
    "collapsed": true,
    "deletable": true,
    "editable": true
   },
   "outputs": [],
   "source": []
  }
 ],
 "metadata": {
  "kernelspec": {
   "display_name": "Python 2",
   "language": "python",
   "name": "python2"
  },
  "language_info": {
   "codemirror_mode": {
    "name": "ipython",
    "version": 2
   },
   "file_extension": ".py",
   "mimetype": "text/x-python",
   "name": "python",
   "nbconvert_exporter": "python",
   "pygments_lexer": "ipython2",
   "version": "2.7.13"
  }
 },
 "nbformat": 4,
 "nbformat_minor": 2
}
