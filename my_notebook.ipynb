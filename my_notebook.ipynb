{
 "cells": [
  {
   "cell_type": "markdown",
   "metadata": {
    "deletable": true,
    "editable": true
   },
   "source": [
    "# This is the project notebook for recording the \"Classification\" Project"
   ]
  },
  {
   "cell_type": "markdown",
   "metadata": {
    "deletable": true,
    "editable": true
   },
   "source": [
    "## 1. Experiments:\n",
    "### 01/05/2017: Two Grid_Search Experiments are running:\n",
    "#### 1. training/Emilya_Dataset/expr0105/gridsearch001\n",
    "    all pairs are used\n"
   ]
  },
  {
   "cell_type": "markdown",
   "metadata": {
    "deletable": true,
    "editable": true
   },
   "source": [
    "#### 2. training/Emilya_Dataset/expr0105/gridsearch002:\n",
    "    all pairs are used"
   ]
  },
  {
   "cell_type": "markdown",
   "metadata": {
    "deletable": true,
    "editable": true
   },
   "source": [
    "#### 3. training/Emilya_Dataset/expr0105/gridsearch003:\n",
    "    missing pair = {\"Simple Walk\",\"Panic Fear\"} pair, grid search,\n",
    "    trianing set: 60% data and remove the sequences of the missing pair.\n",
    "    validation set: 20% data including all avaiable activity-emotion pairs\n",
    "    Max_Epoch = 50\n",
    "    Structure of LSTM:hidden layers :[100,20] ,['tanh','tanh'],output layer: dim:8,softmax"
   ]
  },
  {
   "cell_type": "code",
   "execution_count": 61,
   "metadata": {
    "collapsed": false
   },
   "outputs": [
    {
     "data": {
      "text/html": [
       "<table>\n",
       "<tbody>\n",
       "<tr><td>       </td><td>dim_embedding=2</td><td>dim_embedding=3</td><td>dim_embedding=4</td><td>dim_embedding=6</td><td>dim_embedding=8</td></tr>\n",
       "<tr><td>lr=0.01</td><td>62.751%        </td><td>80.795%        </td><td>77.228%        </td><td>61.844%        </td><td>51.601%        </td></tr>\n",
       "<tr><td>lr=0.01</td><td>84.857%        </td><td>86.129%        </td><td>85.260%        </td><td>86.037%        </td><td>72.814%        </td></tr>\n",
       "</tbody>\n",
       "</table>"
      ],
      "text/plain": [
       "<IPython.core.display.HTML object>"
      ]
     },
     "metadata": {},
     "output_type": "display_data"
    }
   ],
   "source": [
    "from IPython.display import HTML, display\n",
    "import tabulate\n",
    "table = [['','dim_embedding=2','dim_embedding=3','dim_embedding=4','dim_embedding=6','dim_embedding=8'],\n",
    "        ['lr=0.01','62.751%','80.795%','77.228%','61.844%','51.601%'],\n",
    "        ['lr=0.01','84.857%','86.129%','85.260%','86.037%','72.814%'],\n",
    "        ]\n",
    "\n",
    "display(HTML(tabulate.tabulate(table, tablefmt='html')))"
   ]
  },
  {
   "cell_type": "markdown",
   "metadata": {
    "deletable": true,
    "editable": true
   },
   "source": [
    "#### 4. training/Emilya_Dataset/expr0105/gridsearch004:\n",
    "missing pair = {\"Simple Walk\",\"Panic Fear\"} pair, grid search,<br>\n",
    "trianing set: 60% data and remove the sequences of the missing pair.<br>\n",
    "validation set: 20% data including all poss<br>\n",
    "Results: lr= 0.005 better than lr=0.01"
   ]
  },
  {
   "cell_type": "code",
   "execution_count": 16,
   "metadata": {
    "collapsed": false,
    "deletable": true,
    "editable": true
   },
   "outputs": [
    {
     "data": {
      "text/html": [
       "<table>\n",
       "<tbody>\n",
       "<tr><td>               </td><td>lr=0.01</td><td>lr=0.005</td></tr>\n",
       "<tr><td>score(accuracy)</td><td>51.744%</td><td>85.557% </td></tr>\n",
       "</tbody>\n",
       "</table>"
      ],
      "text/plain": [
       "<IPython.core.display.HTML object>"
      ]
     },
     "metadata": {},
     "output_type": "display_data"
    }
   ],
   "source": [
    "from IPython.display import HTML, display\n",
    "import tabulate\n",
    "table = [['','lr=0.01','lr=0.005'],\n",
    "        ['score(accuracy)','51.744%','85.557%'],\n",
    "        ]\n",
    "\n",
    "display(HTML(tabulate.tabulate(table, tablefmt='html')))"
   ]
  },
  {
   "cell_type": "markdown",
   "metadata": {
    "collapsed": true,
    "deletable": true,
    "editable": true
   },
   "source": [
    "# Today's Task:\n",
    "1.Processing HDM05: <br>\n",
    "    a. test if it's possible to decrease the value of euler angles into the range (0,360) <br>\n",
    "    b. If 1 is yes, change; if 1 not,then convert euler angles into exponential mapping using matlab tools<br>\n",
    "\n",
    "2.Activity classification, choose a good setting of hyperparameters\n",
    "\n",
    "                  "
   ]
  },
  {
   "cell_type": "markdown",
   "metadata": {
    "collapsed": true,
    "deletable": true,
    "editable": true
   },
   "source": [
    "# HDM05 : format:\n",
    "each frames: first 3 dims: global position<br>\n",
    "4-6 dims: root orientation angles<br>\n",
    "the remaining: euler angles of other joints.<br>\n",
    "## Processing HDM05:\n"
   ]
  },
  {
   "cell_type": "code",
   "execution_count": null,
   "metadata": {
    "collapsed": true
   },
   "outputs": [],
   "source": []
  }
 ],
 "metadata": {
  "kernelspec": {
   "display_name": "Python 2",
   "language": "python",
   "name": "python2"
  },
  "language_info": {
   "codemirror_mode": {
    "name": "ipython",
    "version": 2
   },
   "file_extension": ".py",
   "mimetype": "text/x-python",
   "name": "python",
   "nbconvert_exporter": "python",
   "pygments_lexer": "ipython2",
   "version": "2.7.13"
  }
 },
 "nbformat": 4,
 "nbformat_minor": 2
}
